{
 "cells": [
  {
   "cell_type": "code",
   "execution_count": 1,
   "metadata": {},
   "outputs": [],
   "source": [
    "import  pandas as pd\n",
    "import numpy as np\n",
    "\n",
    "from sklearn.decomposition import FactorAnalysis\n",
    "from sklearn.model_selection import train_test_split\n",
    "from sklearn.ensemble import RandomForestClassifier\n",
    "\n",
    "import matplotlib.pyplot as plt\n",
    "import matplotlib as mpl\n",
    "from cycler import cycler\n",
    "plt.style.use('dark_background')"
   ]
  },
  {
   "cell_type": "code",
   "execution_count": 2,
   "metadata": {},
   "outputs": [
    {
     "data": {
      "text/html": [
       "<div>\n",
       "<style scoped>\n",
       "    .dataframe tbody tr th:only-of-type {\n",
       "        vertical-align: middle;\n",
       "    }\n",
       "\n",
       "    .dataframe tbody tr th {\n",
       "        vertical-align: top;\n",
       "    }\n",
       "\n",
       "    .dataframe thead th {\n",
       "        text-align: right;\n",
       "    }\n",
       "</style>\n",
       "<table border=\"1\" class=\"dataframe\">\n",
       "  <thead>\n",
       "    <tr style=\"text-align: right;\">\n",
       "      <th></th>\n",
       "      <th>ano</th>\n",
       "      <th>Inv_tl</th>\n",
       "      <th>Inv_fem</th>\n",
       "      <th>Inv_Masc</th>\n",
       "      <th>&lt;24</th>\n",
       "      <th>25-39</th>\n",
       "      <th>40-59</th>\n",
       "      <th>&gt;60</th>\n",
       "      <th>Neg_Vol_Bi</th>\n",
       "      <th>vl_invest</th>\n",
       "      <th>posi_Total_Bi</th>\n",
       "      <th>busca_as_inves</th>\n",
       "      <th>busca_ass_acoes</th>\n",
       "      <th>inter_bank</th>\n",
       "      <th>mepoupe_views</th>\n",
       "      <th>club_valor_views</th>\n",
       "      <th>econo_views</th>\n",
       "      <th>pL_views</th>\n",
       "      <th>Saldo Mediano &gt;14</th>\n",
       "    </tr>\n",
       "  </thead>\n",
       "  <tbody>\n",
       "    <tr>\n",
       "      <th>0</th>\n",
       "      <td>2013-01-01</td>\n",
       "      <td>589276</td>\n",
       "      <td>148549</td>\n",
       "      <td>440727</td>\n",
       "      <td>1903.000</td>\n",
       "      <td>111962.44</td>\n",
       "      <td>141426.24</td>\n",
       "      <td>329994.56</td>\n",
       "      <td>2.3</td>\n",
       "      <td>14.0</td>\n",
       "      <td>115</td>\n",
       "      <td>106000</td>\n",
       "      <td>149000</td>\n",
       "      <td>21576</td>\n",
       "      <td>0.0</td>\n",
       "      <td>0.0000</td>\n",
       "      <td>0.0000</td>\n",
       "      <td>0.0000</td>\n",
       "      <td>0</td>\n",
       "    </tr>\n",
       "    <tr>\n",
       "      <th>1</th>\n",
       "      <td>2014-01-01</td>\n",
       "      <td>564116</td>\n",
       "      <td>137794</td>\n",
       "      <td>426322</td>\n",
       "      <td>2353.000</td>\n",
       "      <td>112823.20</td>\n",
       "      <td>135387.84</td>\n",
       "      <td>315904.96</td>\n",
       "      <td>2.0</td>\n",
       "      <td>12.0</td>\n",
       "      <td>106</td>\n",
       "      <td>109000</td>\n",
       "      <td>170000</td>\n",
       "      <td>25980</td>\n",
       "      <td>0.0</td>\n",
       "      <td>0.0000</td>\n",
       "      <td>0.0000</td>\n",
       "      <td>0.0000</td>\n",
       "      <td>1</td>\n",
       "    </tr>\n",
       "    <tr>\n",
       "      <th>2</th>\n",
       "      <td>2015-01-01</td>\n",
       "      <td>557109</td>\n",
       "      <td>132427</td>\n",
       "      <td>424682</td>\n",
       "      <td>2346.000</td>\n",
       "      <td>116992.89</td>\n",
       "      <td>133706.16</td>\n",
       "      <td>300838.86</td>\n",
       "      <td>1.9</td>\n",
       "      <td>11.0</td>\n",
       "      <td>89</td>\n",
       "      <td>137000</td>\n",
       "      <td>145000</td>\n",
       "      <td>31694</td>\n",
       "      <td>1493930.0</td>\n",
       "      <td>0.0000</td>\n",
       "      <td>0.0000</td>\n",
       "      <td>135267.0000</td>\n",
       "      <td>0</td>\n",
       "    </tr>\n",
       "    <tr>\n",
       "      <th>3</th>\n",
       "      <td>2016-01-01</td>\n",
       "      <td>564024</td>\n",
       "      <td>130265</td>\n",
       "      <td>433759</td>\n",
       "      <td>10716.456</td>\n",
       "      <td>135365.76</td>\n",
       "      <td>135365.76</td>\n",
       "      <td>287652.24</td>\n",
       "      <td>2.5</td>\n",
       "      <td>17.0</td>\n",
       "      <td>122</td>\n",
       "      <td>196000</td>\n",
       "      <td>217000</td>\n",
       "      <td>38081</td>\n",
       "      <td>1345991.5</td>\n",
       "      <td>235266.0000</td>\n",
       "      <td>708742.8333</td>\n",
       "      <td>267472.0000</td>\n",
       "      <td>1</td>\n",
       "    </tr>\n",
       "    <tr>\n",
       "      <th>4</th>\n",
       "      <td>2017-01-01</td>\n",
       "      <td>619625</td>\n",
       "      <td>141738</td>\n",
       "      <td>477887</td>\n",
       "      <td>13012.125</td>\n",
       "      <td>173495.00</td>\n",
       "      <td>34017.12</td>\n",
       "      <td>224606.89</td>\n",
       "      <td>3.0</td>\n",
       "      <td>20.0</td>\n",
       "      <td>166</td>\n",
       "      <td>273000</td>\n",
       "      <td>245000</td>\n",
       "      <td>46164</td>\n",
       "      <td>1861526.0</td>\n",
       "      <td>175638.6364</td>\n",
       "      <td>961679.8889</td>\n",
       "      <td>309964.7333</td>\n",
       "      <td>1</td>\n",
       "    </tr>\n",
       "  </tbody>\n",
       "</table>\n",
       "</div>"
      ],
      "text/plain": [
       "         ano  Inv_tl  Inv_fem  Inv_Masc        <24      25-39      40-59  \\\n",
       "0 2013-01-01  589276   148549    440727   1903.000  111962.44  141426.24   \n",
       "1 2014-01-01  564116   137794    426322   2353.000  112823.20  135387.84   \n",
       "2 2015-01-01  557109   132427    424682   2346.000  116992.89  133706.16   \n",
       "3 2016-01-01  564024   130265    433759  10716.456  135365.76  135365.76   \n",
       "4 2017-01-01  619625   141738    477887  13012.125  173495.00   34017.12   \n",
       "\n",
       "         >60  Neg_Vol_Bi  vl_invest  posi_Total_Bi  busca_as_inves  \\\n",
       "0  329994.56         2.3       14.0            115          106000   \n",
       "1  315904.96         2.0       12.0            106          109000   \n",
       "2  300838.86         1.9       11.0             89          137000   \n",
       "3  287652.24         2.5       17.0            122          196000   \n",
       "4  224606.89         3.0       20.0            166          273000   \n",
       "\n",
       "   busca_ass_acoes  inter_bank  mepoupe_views  club_valor_views  econo_views  \\\n",
       "0           149000       21576            0.0            0.0000       0.0000   \n",
       "1           170000       25980            0.0            0.0000       0.0000   \n",
       "2           145000       31694      1493930.0            0.0000       0.0000   \n",
       "3           217000       38081      1345991.5       235266.0000  708742.8333   \n",
       "4           245000       46164      1861526.0       175638.6364  961679.8889   \n",
       "\n",
       "      pL_views  Saldo Mediano >14  \n",
       "0       0.0000                  0  \n",
       "1       0.0000                  1  \n",
       "2  135267.0000                  0  \n",
       "3  267472.0000                  1  \n",
       "4  309964.7333                  1  "
      ]
     },
     "execution_count": 2,
     "metadata": {},
     "output_type": "execute_result"
    }
   ],
   "source": [
    "df=pd.read_csv('dadoB3_test.csv', sep=';', encoding='latin1', parse_dates=['ano'])\n",
    "df.head()"
   ]
  },
  {
   "cell_type": "code",
   "execution_count": 3,
   "metadata": {},
   "outputs": [],
   "source": [
    "dff = df.set_index('ano')\n",
    "dff_1 = dff[['busca_as_inves','busca_ass_acoes', 'inter_bank', 'mepoupe_views', 'club_valor_views','econo_views', 'pL_views']]"
   ]
  },
  {
   "cell_type": "code",
   "execution_count": 4,
   "metadata": {},
   "outputs": [],
   "source": [
    "dff_1.plot()\n",
    "\n",
    "plt.rcParams['figure.figsize'] = (15,10)\n",
    "\n",
    "plt.grid(True)\n",
    "plt.title('aumento de valores ref. investimento')\n",
    "plt.savefig('temporaisInternet.png')\n",
    "plt.close()"
   ]
  },
  {
   "cell_type": "markdown",
   "metadata": {},
   "source": [
    "\n",
    "Há um aumento no ano de 2015 dos views dos canais: Me poupe!, econometria e Patricia Lages. em 2016 houve um aumento do numero de busca por assuntos referentes a ações e investimentos, juntamente com uma sutil elevação da quantidade de investidores com até 39 anos de idade. \n",
    "    em 2017 junto com aumento de views dos canais Me poupe!, econometria é possivel observar uma alta no número total de investidores, que demonstra um prevalencia masculina. No entanto em 2018 quando há um sutil queda no views dos canais ha um aumento significativo no numero de investidoes menor de 39 e muheres."
   ]
  },
  {
   "cell_type": "code",
   "execution_count": 5,
   "metadata": {},
   "outputs": [
    {
     "data": {
      "text/plain": [
       "Text(0.5, 1.0, 'aumento de valores ref. investimento')"
      ]
     },
     "execution_count": 5,
     "metadata": {},
     "output_type": "execute_result"
    },
    {
     "data": {
      "image/png": "[encoded data removed]",
      "text/plain": [
       "<Figure size 1080x720 with 1 Axes>"
      ]
     },
     "metadata": {
      "needs_background": "dark"
     },
     "output_type": "display_data"
    }
   ],
   "source": [
    "dff.plot()\n",
    "\n",
    "plt.rcParams['figure.figsize'] = (15,10)\n",
    "#plt.yticks(range(0, 2e7)) # mudar escala do eixo Y\n",
    "plt.grid(True)\n",
    "plt.title('aumento de valores ref. investimento')\n",
    "#plt.savefig('temporais.png')"
   ]
  },
  {
   "cell_type": "code",
   "execution_count": 6,
   "metadata": {},
   "outputs": [
    {
     "data": {
      "text/html": [
       "<div>\n",
       "<style scoped>\n",
       "    .dataframe tbody tr th:only-of-type {\n",
       "        vertical-align: middle;\n",
       "    }\n",
       "\n",
       "    .dataframe tbody tr th {\n",
       "        vertical-align: top;\n",
       "    }\n",
       "\n",
       "    .dataframe thead th {\n",
       "        text-align: right;\n",
       "    }\n",
       "</style>\n",
       "<table border=\"1\" class=\"dataframe\">\n",
       "  <thead>\n",
       "    <tr style=\"text-align: right;\">\n",
       "      <th></th>\n",
       "      <th>Inv_tl</th>\n",
       "      <th>Inv_fem</th>\n",
       "      <th>Inv_Masc</th>\n",
       "      <th>&lt;24</th>\n",
       "      <th>25-39</th>\n",
       "      <th>40-59</th>\n",
       "      <th>&gt;60</th>\n",
       "      <th>Neg_Vol_Bi</th>\n",
       "      <th>vl_invest</th>\n",
       "      <th>posi_Total_Bi</th>\n",
       "      <th>busca_as_inves</th>\n",
       "      <th>busca_ass_acoes</th>\n",
       "      <th>inter_bank</th>\n",
       "      <th>mepoupe_views</th>\n",
       "      <th>club_valor_views</th>\n",
       "      <th>econo_views</th>\n",
       "      <th>pL_views</th>\n",
       "      <th>Saldo Mediano &gt;14</th>\n",
       "    </tr>\n",
       "  </thead>\n",
       "  <tbody>\n",
       "    <tr>\n",
       "      <th>Inv_tl</th>\n",
       "      <td>1.000000</td>\n",
       "      <td>0.998129</td>\n",
       "      <td>0.999772</td>\n",
       "      <td>0.998941</td>\n",
       "      <td>0.999239</td>\n",
       "      <td>0.948069</td>\n",
       "      <td>0.959323</td>\n",
       "      <td>0.971620</td>\n",
       "      <td>-0.430084</td>\n",
       "      <td>0.827672</td>\n",
       "      <td>0.573632</td>\n",
       "      <td>0.792788</td>\n",
       "      <td>0.911619</td>\n",
       "      <td>0.914553</td>\n",
       "      <td>-0.017177</td>\n",
       "      <td>0.173865</td>\n",
       "      <td>0.311373</td>\n",
       "      <td>-0.494241</td>\n",
       "    </tr>\n",
       "    <tr>\n",
       "      <th>Inv_fem</th>\n",
       "      <td>0.998129</td>\n",
       "      <td>1.000000</td>\n",
       "      <td>0.996598</td>\n",
       "      <td>0.998000</td>\n",
       "      <td>0.995225</td>\n",
       "      <td>0.953344</td>\n",
       "      <td>0.969382</td>\n",
       "      <td>0.958052</td>\n",
       "      <td>-0.454520</td>\n",
       "      <td>0.793351</td>\n",
       "      <td>0.523013</td>\n",
       "      <td>0.756587</td>\n",
       "      <td>0.896972</td>\n",
       "      <td>0.896541</td>\n",
       "      <td>-0.042137</td>\n",
       "      <td>0.146281</td>\n",
       "      <td>0.275030</td>\n",
       "      <td>-0.497780</td>\n",
       "    </tr>\n",
       "    <tr>\n",
       "      <th>Inv_Masc</th>\n",
       "      <td>0.999772</td>\n",
       "      <td>0.996598</td>\n",
       "      <td>1.000000</td>\n",
       "      <td>0.998390</td>\n",
       "      <td>0.999760</td>\n",
       "      <td>0.945394</td>\n",
       "      <td>0.954969</td>\n",
       "      <td>0.975499</td>\n",
       "      <td>-0.421179</td>\n",
       "      <td>0.838918</td>\n",
       "      <td>0.590788</td>\n",
       "      <td>0.804722</td>\n",
       "      <td>0.915927</td>\n",
       "      <td>0.920032</td>\n",
       "      <td>-0.008453</td>\n",
       "      <td>0.183337</td>\n",
       "      <td>0.323780</td>\n",
       "      <td>-0.492572</td>\n",
       "    </tr>\n",
       "    <tr>\n",
       "      <th>&lt;24</th>\n",
       "      <td>0.998941</td>\n",
       "      <td>0.998000</td>\n",
       "      <td>0.998390</td>\n",
       "      <td>1.000000</td>\n",
       "      <td>0.998103</td>\n",
       "      <td>0.952647</td>\n",
       "      <td>0.961544</td>\n",
       "      <td>0.965370</td>\n",
       "      <td>-0.431017</td>\n",
       "      <td>0.817600</td>\n",
       "      <td>0.558880</td>\n",
       "      <td>0.787562</td>\n",
       "      <td>0.911137</td>\n",
       "      <td>0.916539</td>\n",
       "      <td>-0.025101</td>\n",
       "      <td>0.195080</td>\n",
       "      <td>0.309033</td>\n",
       "      <td>-0.485826</td>\n",
       "    </tr>\n",
       "    <tr>\n",
       "      <th>25-39</th>\n",
       "      <td>0.999239</td>\n",
       "      <td>0.995225</td>\n",
       "      <td>0.999760</td>\n",
       "      <td>0.998103</td>\n",
       "      <td>1.000000</td>\n",
       "      <td>0.940636</td>\n",
       "      <td>0.949268</td>\n",
       "      <td>0.978356</td>\n",
       "      <td>-0.406399</td>\n",
       "      <td>0.845244</td>\n",
       "      <td>0.599932</td>\n",
       "      <td>0.810849</td>\n",
       "      <td>0.923799</td>\n",
       "      <td>0.927339</td>\n",
       "      <td>0.006777</td>\n",
       "      <td>0.201336</td>\n",
       "      <td>0.342424</td>\n",
       "      <td>-0.481215</td>\n",
       "    </tr>\n",
       "    <tr>\n",
       "      <th>40-59</th>\n",
       "      <td>0.948069</td>\n",
       "      <td>0.953344</td>\n",
       "      <td>0.945394</td>\n",
       "      <td>0.952647</td>\n",
       "      <td>0.940636</td>\n",
       "      <td>1.000000</td>\n",
       "      <td>0.990386</td>\n",
       "      <td>0.864233</td>\n",
       "      <td>-0.640418</td>\n",
       "      <td>0.712724</td>\n",
       "      <td>0.465523</td>\n",
       "      <td>0.731173</td>\n",
       "      <td>0.756125</td>\n",
       "      <td>0.805804</td>\n",
       "      <td>-0.262253</td>\n",
       "      <td>0.027089</td>\n",
       "      <td>0.061247</td>\n",
       "      <td>-0.619392</td>\n",
       "    </tr>\n",
       "    <tr>\n",
       "      <th>&gt;60</th>\n",
       "      <td>0.959323</td>\n",
       "      <td>0.969382</td>\n",
       "      <td>0.954969</td>\n",
       "      <td>0.961544</td>\n",
       "      <td>0.949268</td>\n",
       "      <td>0.990386</td>\n",
       "      <td>1.000000</td>\n",
       "      <td>0.873151</td>\n",
       "      <td>-0.631097</td>\n",
       "      <td>0.684562</td>\n",
       "      <td>0.406519</td>\n",
       "      <td>0.677751</td>\n",
       "      <td>0.767926</td>\n",
       "      <td>0.792160</td>\n",
       "      <td>-0.233775</td>\n",
       "      <td>-0.018723</td>\n",
       "      <td>0.055257</td>\n",
       "      <td>-0.595440</td>\n",
       "    </tr>\n",
       "    <tr>\n",
       "      <th>Neg_Vol_Bi</th>\n",
       "      <td>0.971620</td>\n",
       "      <td>0.958052</td>\n",
       "      <td>0.975499</td>\n",
       "      <td>0.965370</td>\n",
       "      <td>0.978356</td>\n",
       "      <td>0.864233</td>\n",
       "      <td>0.873151</td>\n",
       "      <td>1.000000</td>\n",
       "      <td>-0.245997</td>\n",
       "      <td>0.914949</td>\n",
       "      <td>0.709582</td>\n",
       "      <td>0.860873</td>\n",
       "      <td>0.956859</td>\n",
       "      <td>0.942139</td>\n",
       "      <td>0.169514</td>\n",
       "      <td>0.286217</td>\n",
       "      <td>0.485596</td>\n",
       "      <td>-0.403423</td>\n",
       "    </tr>\n",
       "    <tr>\n",
       "      <th>vl_invest</th>\n",
       "      <td>-0.430084</td>\n",
       "      <td>-0.454520</td>\n",
       "      <td>-0.421179</td>\n",
       "      <td>-0.431017</td>\n",
       "      <td>-0.406399</td>\n",
       "      <td>-0.640418</td>\n",
       "      <td>-0.631097</td>\n",
       "      <td>-0.245997</td>\n",
       "      <td>1.000000</td>\n",
       "      <td>-0.076020</td>\n",
       "      <td>0.058338</td>\n",
       "      <td>-0.159697</td>\n",
       "      <td>-0.086693</td>\n",
       "      <td>-0.197568</td>\n",
       "      <td>0.750592</td>\n",
       "      <td>0.635347</td>\n",
       "      <td>0.582253</td>\n",
       "      <td>0.683302</td>\n",
       "    </tr>\n",
       "    <tr>\n",
       "      <th>posi_Total_Bi</th>\n",
       "      <td>0.827672</td>\n",
       "      <td>0.793351</td>\n",
       "      <td>0.838918</td>\n",
       "      <td>0.817600</td>\n",
       "      <td>0.845244</td>\n",
       "      <td>0.712724</td>\n",
       "      <td>0.684562</td>\n",
       "      <td>0.914949</td>\n",
       "      <td>-0.076020</td>\n",
       "      <td>1.000000</td>\n",
       "      <td>0.922399</td>\n",
       "      <td>0.978059</td>\n",
       "      <td>0.858065</td>\n",
       "      <td>0.878285</td>\n",
       "      <td>0.190876</td>\n",
       "      <td>0.426653</td>\n",
       "      <td>0.547301</td>\n",
       "      <td>-0.361636</td>\n",
       "    </tr>\n",
       "    <tr>\n",
       "      <th>busca_as_inves</th>\n",
       "      <td>0.573632</td>\n",
       "      <td>0.523013</td>\n",
       "      <td>0.590788</td>\n",
       "      <td>0.558880</td>\n",
       "      <td>0.599932</td>\n",
       "      <td>0.465523</td>\n",
       "      <td>0.406519</td>\n",
       "      <td>0.709582</td>\n",
       "      <td>0.058338</td>\n",
       "      <td>0.922399</td>\n",
       "      <td>1.000000</td>\n",
       "      <td>0.932104</td>\n",
       "      <td>0.660075</td>\n",
       "      <td>0.714603</td>\n",
       "      <td>0.252496</td>\n",
       "      <td>0.424856</td>\n",
       "      <td>0.583311</td>\n",
       "      <td>-0.285710</td>\n",
       "    </tr>\n",
       "    <tr>\n",
       "      <th>busca_ass_acoes</th>\n",
       "      <td>0.792788</td>\n",
       "      <td>0.756587</td>\n",
       "      <td>0.804722</td>\n",
       "      <td>0.787562</td>\n",
       "      <td>0.810849</td>\n",
       "      <td>0.731173</td>\n",
       "      <td>0.677751</td>\n",
       "      <td>0.860873</td>\n",
       "      <td>-0.159697</td>\n",
       "      <td>0.978059</td>\n",
       "      <td>0.932104</td>\n",
       "      <td>1.000000</td>\n",
       "      <td>0.792538</td>\n",
       "      <td>0.852161</td>\n",
       "      <td>0.072773</td>\n",
       "      <td>0.424612</td>\n",
       "      <td>0.466484</td>\n",
       "      <td>-0.407484</td>\n",
       "    </tr>\n",
       "    <tr>\n",
       "      <th>inter_bank</th>\n",
       "      <td>0.911619</td>\n",
       "      <td>0.896972</td>\n",
       "      <td>0.915927</td>\n",
       "      <td>0.911137</td>\n",
       "      <td>0.923799</td>\n",
       "      <td>0.756125</td>\n",
       "      <td>0.767926</td>\n",
       "      <td>0.956859</td>\n",
       "      <td>-0.086693</td>\n",
       "      <td>0.858065</td>\n",
       "      <td>0.660075</td>\n",
       "      <td>0.792538</td>\n",
       "      <td>1.000000</td>\n",
       "      <td>0.968595</td>\n",
       "      <td>0.335270</td>\n",
       "      <td>0.447180</td>\n",
       "      <td>0.663115</td>\n",
       "      <td>-0.229634</td>\n",
       "    </tr>\n",
       "    <tr>\n",
       "      <th>mepoupe_views</th>\n",
       "      <td>0.914553</td>\n",
       "      <td>0.896541</td>\n",
       "      <td>0.920032</td>\n",
       "      <td>0.916539</td>\n",
       "      <td>0.927339</td>\n",
       "      <td>0.805804</td>\n",
       "      <td>0.792160</td>\n",
       "      <td>0.942139</td>\n",
       "      <td>-0.197568</td>\n",
       "      <td>0.878285</td>\n",
       "      <td>0.714603</td>\n",
       "      <td>0.852161</td>\n",
       "      <td>0.968595</td>\n",
       "      <td>1.000000</td>\n",
       "      <td>0.187867</td>\n",
       "      <td>0.432129</td>\n",
       "      <td>0.605424</td>\n",
       "      <td>-0.401031</td>\n",
       "    </tr>\n",
       "    <tr>\n",
       "      <th>club_valor_views</th>\n",
       "      <td>-0.017177</td>\n",
       "      <td>-0.042137</td>\n",
       "      <td>-0.008453</td>\n",
       "      <td>-0.025101</td>\n",
       "      <td>0.006777</td>\n",
       "      <td>-0.262253</td>\n",
       "      <td>-0.233775</td>\n",
       "      <td>0.169514</td>\n",
       "      <td>0.750592</td>\n",
       "      <td>0.190876</td>\n",
       "      <td>0.252496</td>\n",
       "      <td>0.072773</td>\n",
       "      <td>0.335270</td>\n",
       "      <td>0.187867</td>\n",
       "      <td>1.000000</td>\n",
       "      <td>0.487634</td>\n",
       "      <td>0.841524</td>\n",
       "      <td>0.587114</td>\n",
       "    </tr>\n",
       "    <tr>\n",
       "      <th>econo_views</th>\n",
       "      <td>0.173865</td>\n",
       "      <td>0.146281</td>\n",
       "      <td>0.183337</td>\n",
       "      <td>0.195080</td>\n",
       "      <td>0.201336</td>\n",
       "      <td>0.027089</td>\n",
       "      <td>-0.018723</td>\n",
       "      <td>0.286217</td>\n",
       "      <td>0.635347</td>\n",
       "      <td>0.426653</td>\n",
       "      <td>0.424856</td>\n",
       "      <td>0.424612</td>\n",
       "      <td>0.447180</td>\n",
       "      <td>0.432129</td>\n",
       "      <td>0.487634</td>\n",
       "      <td>1.000000</td>\n",
       "      <td>0.707538</td>\n",
       "      <td>0.335044</td>\n",
       "    </tr>\n",
       "    <tr>\n",
       "      <th>pL_views</th>\n",
       "      <td>0.311373</td>\n",
       "      <td>0.275030</td>\n",
       "      <td>0.323780</td>\n",
       "      <td>0.309033</td>\n",
       "      <td>0.342424</td>\n",
       "      <td>0.061247</td>\n",
       "      <td>0.055257</td>\n",
       "      <td>0.485596</td>\n",
       "      <td>0.582253</td>\n",
       "      <td>0.547301</td>\n",
       "      <td>0.583311</td>\n",
       "      <td>0.466484</td>\n",
       "      <td>0.663115</td>\n",
       "      <td>0.605424</td>\n",
       "      <td>0.841524</td>\n",
       "      <td>0.707538</td>\n",
       "      <td>1.000000</td>\n",
       "      <td>0.266795</td>\n",
       "    </tr>\n",
       "    <tr>\n",
       "      <th>Saldo Mediano &gt;14</th>\n",
       "      <td>-0.494241</td>\n",
       "      <td>-0.497780</td>\n",
       "      <td>-0.492572</td>\n",
       "      <td>-0.485826</td>\n",
       "      <td>-0.481215</td>\n",
       "      <td>-0.619392</td>\n",
       "      <td>-0.595440</td>\n",
       "      <td>-0.403423</td>\n",
       "      <td>0.683302</td>\n",
       "      <td>-0.361636</td>\n",
       "      <td>-0.285710</td>\n",
       "      <td>-0.407484</td>\n",
       "      <td>-0.229634</td>\n",
       "      <td>-0.401031</td>\n",
       "      <td>0.587114</td>\n",
       "      <td>0.335044</td>\n",
       "      <td>0.266795</td>\n",
       "      <td>1.000000</td>\n",
       "    </tr>\n",
       "  </tbody>\n",
       "</table>\n",
       "</div>"
      ],
      "text/plain": [
       "                     Inv_tl   Inv_fem  Inv_Masc       <24     25-39     40-59  \\\n",
       "Inv_tl             1.000000  0.998129  0.999772  0.998941  0.999239  0.948069   \n",
       "Inv_fem            0.998129  1.000000  0.996598  0.998000  0.995225  0.953344   \n",
       "Inv_Masc           0.999772  0.996598  1.000000  0.998390  0.999760  0.945394   \n",
       "<24                0.998941  0.998000  0.998390  1.000000  0.998103  0.952647   \n",
       "25-39              0.999239  0.995225  0.999760  0.998103  1.000000  0.940636   \n",
       "40-59              0.948069  0.953344  0.945394  0.952647  0.940636  1.000000   \n",
       ">60                0.959323  0.969382  0.954969  0.961544  0.949268  0.990386   \n",
       "Neg_Vol_Bi         0.971620  0.958052  0.975499  0.965370  0.978356  0.864233   \n",
       "vl_invest         -0.430084 -0.454520 -0.421179 -0.431017 -0.406399 -0.640418   \n",
       "posi_Total_Bi      0.827672  0.793351  0.838918  0.817600  0.845244  0.712724   \n",
       "busca_as_inves     0.573632  0.523013  0.590788  0.558880  0.599932  0.465523   \n",
       "busca_ass_acoes    0.792788  0.756587  0.804722  0.787562  0.810849  0.731173   \n",
       "inter_bank         0.911619  0.896972  0.915927  0.911137  0.923799  0.756125   \n",
       "mepoupe_views      0.914553  0.896541  0.920032  0.916539  0.927339  0.805804   \n",
       "club_valor_views  -0.017177 -0.042137 -0.008453 -0.025101  0.006777 -0.262253   \n",
       "econo_views        0.173865  0.146281  0.183337  0.195080  0.201336  0.027089   \n",
       "pL_views           0.311373  0.275030  0.323780  0.309033  0.342424  0.061247   \n",
       "Saldo Mediano >14 -0.494241 -0.497780 -0.492572 -0.485826 -0.481215 -0.619392   \n",
       "\n",
       "                        >60  Neg_Vol_Bi  vl_invest  posi_Total_Bi  \\\n",
       "Inv_tl             0.959323    0.971620  -0.430084       0.827672   \n",
       "Inv_fem            0.969382    0.958052  -0.454520       0.793351   \n",
       "Inv_Masc           0.954969    0.975499  -0.421179       0.838918   \n",
       "<24                0.961544    0.965370  -0.431017       0.817600   \n",
       "25-39              0.949268    0.978356  -0.406399       0.845244   \n",
       "40-59              0.990386    0.864233  -0.640418       0.712724   \n",
       ">60                1.000000    0.873151  -0.631097       0.684562   \n",
       "Neg_Vol_Bi         0.873151    1.000000  -0.245997       0.914949   \n",
       "vl_invest         -0.631097   -0.245997   1.000000      -0.076020   \n",
       "posi_Total_Bi      0.684562    0.914949  -0.076020       1.000000   \n",
       "busca_as_inves     0.406519    0.709582   0.058338       0.922399   \n",
       "busca_ass_acoes    0.677751    0.860873  -0.159697       0.978059   \n",
       "inter_bank         0.767926    0.956859  -0.086693       0.858065   \n",
       "mepoupe_views      0.792160    0.942139  -0.197568       0.878285   \n",
       "club_valor_views  -0.233775    0.169514   0.750592       0.190876   \n",
       "econo_views       -0.018723    0.286217   0.635347       0.426653   \n",
       "pL_views           0.055257    0.485596   0.582253       0.547301   \n",
       "Saldo Mediano >14 -0.595440   -0.403423   0.683302      -0.361636   \n",
       "\n",
       "                   busca_as_inves  busca_ass_acoes  inter_bank  mepoupe_views  \\\n",
       "Inv_tl                   0.573632         0.792788    0.911619       0.914553   \n",
       "Inv_fem                  0.523013         0.756587    0.896972       0.896541   \n",
       "Inv_Masc                 0.590788         0.804722    0.915927       0.920032   \n",
       "<24                      0.558880         0.787562    0.911137       0.916539   \n",
       "25-39                    0.599932         0.810849    0.923799       0.927339   \n",
       "40-59                    0.465523         0.731173    0.756125       0.805804   \n",
       ">60                      0.406519         0.677751    0.767926       0.792160   \n",
       "Neg_Vol_Bi               0.709582         0.860873    0.956859       0.942139   \n",
       "vl_invest                0.058338        -0.159697   -0.086693      -0.197568   \n",
       "posi_Total_Bi            0.922399         0.978059    0.858065       0.878285   \n",
       "busca_as_inves           1.000000         0.932104    0.660075       0.714603   \n",
       "busca_ass_acoes          0.932104         1.000000    0.792538       0.852161   \n",
       "inter_bank               0.660075         0.792538    1.000000       0.968595   \n",
       "mepoupe_views            0.714603         0.852161    0.968595       1.000000   \n",
       "club_valor_views         0.252496         0.072773    0.335270       0.187867   \n",
       "econo_views              0.424856         0.424612    0.447180       0.432129   \n",
       "pL_views                 0.583311         0.466484    0.663115       0.605424   \n",
       "Saldo Mediano >14       -0.285710        -0.407484   -0.229634      -0.401031   \n",
       "\n",
       "                   club_valor_views  econo_views  pL_views  Saldo Mediano >14  \n",
       "Inv_tl                    -0.017177     0.173865  0.311373          -0.494241  \n",
       "Inv_fem                   -0.042137     0.146281  0.275030          -0.497780  \n",
       "Inv_Masc                  -0.008453     0.183337  0.323780          -0.492572  \n",
       "<24                       -0.025101     0.195080  0.309033          -0.485826  \n",
       "25-39                      0.006777     0.201336  0.342424          -0.481215  \n",
       "40-59                     -0.262253     0.027089  0.061247          -0.619392  \n",
       ">60                       -0.233775    -0.018723  0.055257          -0.595440  \n",
       "Neg_Vol_Bi                 0.169514     0.286217  0.485596          -0.403423  \n",
       "vl_invest                  0.750592     0.635347  0.582253           0.683302  \n",
       "posi_Total_Bi              0.190876     0.426653  0.547301          -0.361636  \n",
       "busca_as_inves             0.252496     0.424856  0.583311          -0.285710  \n",
       "busca_ass_acoes            0.072773     0.424612  0.466484          -0.407484  \n",
       "inter_bank                 0.335270     0.447180  0.663115          -0.229634  \n",
       "mepoupe_views              0.187867     0.432129  0.605424          -0.401031  \n",
       "club_valor_views           1.000000     0.487634  0.841524           0.587114  \n",
       "econo_views                0.487634     1.000000  0.707538           0.335044  \n",
       "pL_views                   0.841524     0.707538  1.000000           0.266795  \n",
       "Saldo Mediano >14          0.587114     0.335044  0.266795           1.000000  "
      ]
     },
     "execution_count": 6,
     "metadata": {},
     "output_type": "execute_result"
    }
   ],
   "source": [
    "dff.corr()"
   ]
  },
  {
   "cell_type": "markdown",
   "metadata": {},
   "source": [
    "podemos identificar um correlação entre número de investidores a busca por assuntos no google em relacao a ações, utilização do internet bank e numero de view do canal me poupe!.\n",
    "Tambem é possivel verificar relação entre o uso do internetbank\\canal me poupe! e o numero de investidores com menos de 39 anos de idade, esta correlação diminue conforme a idade dos investidores aumenta. "
   ]
  },
  {
   "cell_type": "code",
   "execution_count": 7,
   "metadata": {},
   "outputs": [],
   "source": [
    "import matplotlib.pyplot as plt\n",
    "import seaborn as sns\n",
    "\n",
    "plt.figure(figsize=(18, 10))\n",
    "sns.heatmap(dff.corr(),\n",
    "            annot = True,\n",
    "            fmt = '.2f',\n",
    "            cmap='Blues')\n",
    "plt.title('Correlação entre variáveis')\n",
    "plt.savefig('correlacao.png')\n",
    "plt.close()\n",
    "plt.show()"
   ]
  },
  {
   "cell_type": "code",
   "execution_count": 8,
   "metadata": {},
   "outputs": [],
   "source": [
    "from pandas.plotting import autocorrelation_plot"
   ]
  },
  {
   "cell_type": "code",
   "execution_count": 9,
   "metadata": {},
   "outputs": [],
   "source": [
    "dfB=pd.read_csv('dadoB3.csv', sep=';', encoding='latin1', parse_dates=['ano'])\n",
    "df_2=dfB['Inv_tl']\n",
    "aut = autocorrelation_plot(df_2)\n",
    "aut.plot()\n",
    "plt.savefig('auto_inv_Tl.png')\n",
    "plt.close()"
   ]
  },
  {
   "cell_type": "markdown",
   "metadata": {},
   "source": [
    "Parece que quantidade de investidores está fracamente correlacionado de forma descendente entre si, quando relacionado ao ano anterior. A série apresenta apenas indicios picos, o que indica que a série não segue um padrão, em relação a quantidade de investidores ao longo do tempo. Bem como a dimuição da autocorrelação entre observações adjacentes e quase adjacentes, de acordo com aumento da janela de tempo analisada. Ou seja, o aumento do número de investidores quando analisados de 2002 até 2020, apresentava uma certa relação, quando observados janelas de até 11 anos, porem quando observamos acima 12 anos a relação  muda de forma acentuada. Indo de encontro com o brusco aumento de investidores, anteriormente ja observados. este comportamento se repete quando observamos a idade dos investidores (<39)"
   ]
  },
  {
   "cell_type": "code",
   "execution_count": 10,
   "metadata": {},
   "outputs": [],
   "source": [
    "df_2=df['25-39']\n",
    "aut = autocorrelation_plot(df_2)\n",
    "aut.plot()\n",
    "plt.savefig('auto_inv_25-39.png')\n",
    "plt.close()"
   ]
  },
  {
   "cell_type": "code",
   "execution_count": 11,
   "metadata": {},
   "outputs": [],
   "source": [
    "df_2=df['<24']\n",
    "aut = autocorrelation_plot(df_2)\n",
    "aut.plot()\n",
    "plt.savefig('auto_inv_24.png')\n",
    "plt.close()"
   ]
  },
  {
   "cell_type": "code",
   "execution_count": 12,
   "metadata": {},
   "outputs": [
    {
     "name": "stderr",
     "output_type": "stream",
     "text": [
      "C:\\ProgramData\\Anaconda3\\lib\\site-packages\\ipykernel_launcher.py:11: DataConversionWarning: A column-vector y was passed when a 1d array was expected. Please change the shape of y to (n_samples,), for example using ravel().\n",
      "  # This is added back by InteractiveShellApp.init_path()\n"
     ]
    },
    {
     "data": {
      "text/plain": [
       "array([0.02197802, 0.09340659, 0.01098901, 0.03296703, 0.02417582,\n",
       "       0.07582418, 0.04395604, 0.03186813, 0.23076923, 0.        ,\n",
       "       0.01648352, 0.02967033, 0.01648352, 0.04285714, 0.13186813,\n",
       "       0.15824176, 0.03846154])"
      ]
     },
     "execution_count": 12,
     "metadata": {},
     "output_type": "execute_result"
    }
   ],
   "source": [
    "#selecionando as melhores features\n",
    "X = dff[['Inv_tl', 'Inv_fem', 'Inv_Masc', '<24', '25-39', '40-59', '>60',\n",
    "       'Neg_Vol_Bi', 'vl_invest', 'posi_Total_Bi', 'busca_as_inves',\n",
    "       'busca_ass_acoes', 'inter_bank', 'mepoupe_views', 'club_valor_views',\n",
    "       'econo_views', 'pL_views']]\n",
    "y = dff[['Saldo Mediano >14']]\n",
    "\n",
    "# Criando conjunto de treino e teste\n",
    "X_train, X_test, y_train, y_test = train_test_split(X, y, random_state=42)# Treinando modelo\n",
    "model  = RandomForestClassifier()\n",
    "model.fit(X_train, y_train)# Mostrando importância de cada feature\n",
    "model.feature_importances_"
   ]
  },
  {
   "cell_type": "code",
   "execution_count": 13,
   "metadata": {},
   "outputs": [],
   "source": [
    "feat_names = X.columns"
   ]
  },
  {
   "cell_type": "code",
   "execution_count": 14,
   "metadata": {},
   "outputs": [],
   "source": [
    "importances = pd.Series(data=model.feature_importances_,index=feat_names)\n",
    "sns.barplot(x=importances, y=importances.index, orient='h').set_title('Importância de cada feature')\n",
    "plt.savefig('relaçãofeatures.png')\n",
    "plt.close()"
   ]
  },
  {
   "cell_type": "code",
   "execution_count": 15,
   "metadata": {},
   "outputs": [
    {
     "name": "stderr",
     "output_type": "stream",
     "text": [
      "C:\\ProgramData\\Anaconda3\\lib\\site-packages\\sklearn\\utils\\validation.py:72: DataConversionWarning: A column-vector y was passed when a 1d array was expected. Please change the shape of y to (n_samples, ), for example using ravel().\n",
      "  return f(**kwargs)\n",
      "C:\\ProgramData\\Anaconda3\\lib\\site-packages\\sklearn\\utils\\validation.py:72: DataConversionWarning: A column-vector y was passed when a 1d array was expected. Please change the shape of y to (n_samples, ), for example using ravel().\n",
      "  return f(**kwargs)\n",
      "C:\\ProgramData\\Anaconda3\\lib\\site-packages\\sklearn\\utils\\validation.py:72: DataConversionWarning: A column-vector y was passed when a 1d array was expected. Please change the shape of y to (n_samples, ), for example using ravel().\n",
      "  return f(**kwargs)\n",
      "C:\\ProgramData\\Anaconda3\\lib\\site-packages\\sklearn\\utils\\validation.py:72: DataConversionWarning: A column-vector y was passed when a 1d array was expected. Please change the shape of y to (n_samples, ), for example using ravel().\n",
      "  return f(**kwargs)\n",
      "C:\\ProgramData\\Anaconda3\\lib\\site-packages\\sklearn\\utils\\validation.py:72: DataConversionWarning: A column-vector y was passed when a 1d array was expected. Please change the shape of y to (n_samples, ), for example using ravel().\n",
      "  return f(**kwargs)\n",
      "C:\\ProgramData\\Anaconda3\\lib\\site-packages\\sklearn\\utils\\validation.py:72: DataConversionWarning: A column-vector y was passed when a 1d array was expected. Please change the shape of y to (n_samples, ), for example using ravel().\n",
      "  return f(**kwargs)\n",
      "C:\\ProgramData\\Anaconda3\\lib\\site-packages\\sklearn\\utils\\validation.py:72: DataConversionWarning: A column-vector y was passed when a 1d array was expected. Please change the shape of y to (n_samples, ), for example using ravel().\n",
      "  return f(**kwargs)\n",
      "C:\\ProgramData\\Anaconda3\\lib\\site-packages\\sklearn\\utils\\validation.py:72: DataConversionWarning: A column-vector y was passed when a 1d array was expected. Please change the shape of y to (n_samples, ), for example using ravel().\n",
      "  return f(**kwargs)\n",
      "C:\\ProgramData\\Anaconda3\\lib\\site-packages\\sklearn\\utils\\validation.py:72: DataConversionWarning: A column-vector y was passed when a 1d array was expected. Please change the shape of y to (n_samples, ), for example using ravel().\n",
      "  return f(**kwargs)\n",
      "C:\\ProgramData\\Anaconda3\\lib\\site-packages\\sklearn\\utils\\validation.py:72: DataConversionWarning: A column-vector y was passed when a 1d array was expected. Please change the shape of y to (n_samples, ), for example using ravel().\n",
      "  return f(**kwargs)\n",
      "C:\\ProgramData\\Anaconda3\\lib\\site-packages\\sklearn\\utils\\validation.py:72: DataConversionWarning: A column-vector y was passed when a 1d array was expected. Please change the shape of y to (n_samples, ), for example using ravel().\n",
      "  return f(**kwargs)\n",
      "C:\\ProgramData\\Anaconda3\\lib\\site-packages\\sklearn\\utils\\validation.py:72: DataConversionWarning: A column-vector y was passed when a 1d array was expected. Please change the shape of y to (n_samples, ), for example using ravel().\n",
      "  return f(**kwargs)\n",
      "C:\\ProgramData\\Anaconda3\\lib\\site-packages\\sklearn\\utils\\validation.py:72: DataConversionWarning: A column-vector y was passed when a 1d array was expected. Please change the shape of y to (n_samples, ), for example using ravel().\n",
      "  return f(**kwargs)\n"
     ]
    },
    {
     "data": {
      "text/plain": [
       "array([ 1,  1, 10,  6,  1,  7,  3, 13, 12, 11,  5,  4,  1,  9,  2,  8,  1])"
      ]
     },
     "execution_count": 15,
     "metadata": {},
     "output_type": "execute_result"
    }
   ],
   "source": [
    "from sklearn.feature_selection import RFE\n",
    "from sklearn.svm import SVR\n",
    "estimator = SVR(kernel=\"linear\")\n",
    "selector = RFE(estimator, n_features_to_select=5, step=1)\n",
    "selector = selector.fit(X, y)\n",
    "selector.support_\n",
    "selector.ranking_"
   ]
  },
  {
   "cell_type": "code",
   "execution_count": 16,
   "metadata": {},
   "outputs": [
    {
     "name": "stdout",
     "output_type": "stream",
     "text": [
      "Inv_tl:1\n",
      "Inv_fem:1\n",
      "Inv_Masc:10\n",
      "<24:6\n",
      "25-39:1\n",
      "40-59:7\n",
      ">60:3\n",
      "Neg_Vol_Bi:13\n",
      "vl_invest:12\n",
      "posi_Total_Bi:11\n",
      "busca_as_inves:5\n",
      "busca_ass_acoes:4\n",
      "inter_bank:1\n",
      "mepoupe_views:9\n",
      "club_valor_views:2\n",
      "econo_views:8\n",
      "pL_views:1\n"
     ]
    }
   ],
   "source": [
    "for feature,importancia in zip(X.columns,selector.ranking_):\n",
    "    print(\"{}:{}\".format(feature, importancia))"
   ]
  },
  {
   "cell_type": "code",
   "execution_count": 17,
   "metadata": {},
   "outputs": [
    {
     "name": "stdout",
     "output_type": "stream",
     "text": [
      "             Inv_tl  Inv_fem  Inv_Masc         <24       25-39      40-59  \\\n",
      "ano                                                                         \n",
      "2013-01-01   589276   148549    440727    1903.000   111962.44  141426.24   \n",
      "2014-01-01   564116   137794    426322    2353.000   112823.20  135387.84   \n",
      "2015-01-01   557109   132427    424682    2346.000   116992.89  133706.16   \n",
      "2016-01-01   564024   130265    433759   10716.456   135365.76  135365.76   \n",
      "2017-01-01   619625   141738    477887   13012.125   173495.00   34017.12   \n",
      "2018-01-01   813291   179392    633899   23585.439   284651.85   41260.16   \n",
      "2019-01-01  1681033   388497   1292536  134482.640   773275.18  319396.27   \n",
      "2020-01-01  3147040   809533   2337507  314704.000  1542049.60  566467.20   \n",
      "\n",
      "                  >60  Neg_Vol_Bi  vl_invest  posi_Total_Bi  busca_as_inves  \\\n",
      "ano                                                                           \n",
      "2013-01-01  329994.56         2.3       14.0            115          106000   \n",
      "2014-01-01  315904.96         2.0       12.0            106          109000   \n",
      "2015-01-01  300838.86         1.9       11.0             89          137000   \n",
      "2016-01-01  287652.24         2.5       17.0            122          196000   \n",
      "2017-01-01  224606.89         3.0       20.0            166          273000   \n",
      "2018-01-01  247220.61         4.4       19.0            203          501000   \n",
      "2019-01-01  437068.58         6.3       14.0            344          982000   \n",
      "2020-01-01  723819.20         9.4       10.6            313          499000   \n",
      "\n",
      "            busca_ass_acoes  inter_bank  mepoupe_views  club_valor_views  \\\n",
      "ano                                                                        \n",
      "2013-01-01           149000       21576            0.0           0.00000   \n",
      "2014-01-01           170000       25980            0.0           0.00000   \n",
      "2015-01-01           145000       31694      1493930.0           0.00000   \n",
      "2016-01-01           217000       38081      1345991.5      235266.00000   \n",
      "2017-01-01           245000       46164      1861526.0      175638.63640   \n",
      "2018-01-01           275000       51929      1896822.0      401740.12500   \n",
      "2019-01-01           681000       57849      3656562.0       76166.40909   \n",
      "2020-01-01           537000       87545      5368147.6      113590.63640   \n",
      "\n",
      "            econo_views     pL_views  \n",
      "ano                                   \n",
      "2013-01-01       0.0000       0.0000  \n",
      "2014-01-01       0.0000       0.0000  \n",
      "2015-01-01       0.0000  135267.0000  \n",
      "2016-01-01  708742.8333  267472.0000  \n",
      "2017-01-01  961679.8889  309964.7333  \n",
      "2018-01-01  320019.0000  412084.2500  \n",
      "2019-01-01  637819.1667  277557.9000  \n",
      "2020-01-01  428016.7500  277640.2000  \n"
     ]
    }
   ],
   "source": [
    "print (X)"
   ]
  },
  {
   "cell_type": "markdown",
   "metadata": {},
   "source": [
    "podemos inferir que Investidor masculino, menor de 24 anos e entre 25-39 anos, volume negociado, valor investido, posicao total dos investimentos, utilização do internet bank e views em canais do youtube. "
   ]
  },
  {
   "cell_type": "code",
   "execution_count": 18,
   "metadata": {},
   "outputs": [],
   "source": [
    "from sklearn.tree import DecisionTreeClassifier,export_graphviz\n",
    "from sklearn import metrics"
   ]
  },
  {
   "cell_type": "code",
   "execution_count": 19,
   "metadata": {},
   "outputs": [],
   "source": [
    "X1_train, X1_test, y1_train, y1_test = train_test_split(dff.drop('Saldo Mediano >14', axis=1),dff['Saldo Mediano >14'], test_size=0.3)"
   ]
  },
  {
   "cell_type": "code",
   "execution_count": 20,
   "metadata": {},
   "outputs": [
    {
     "data": {
      "text/plain": [
       "((5, 17), (3, 17), (5,), (3,))"
      ]
     },
     "execution_count": 20,
     "metadata": {},
     "output_type": "execute_result"
    }
   ],
   "source": [
    "X1_train.shape, X1_test.shape, y1_train.shape, y1_test.shape"
   ]
  },
  {
   "cell_type": "code",
   "execution_count": 21,
   "metadata": {},
   "outputs": [
    {
     "data": {
      "text/plain": [
       "array([0.        , 0.        , 0.55555556, 0.        , 0.        ,\n",
       "       0.44444444, 0.        , 0.        , 0.        , 0.        ,\n",
       "       0.        , 0.        , 0.        , 0.        , 0.        ,\n",
       "       0.        , 0.        ])"
      ]
     },
     "execution_count": 21,
     "metadata": {},
     "output_type": "execute_result"
    }
   ],
   "source": [
    "clf = DecisionTreeClassifier()\n",
    "clf = clf.fit(X1_train,y1_train)\n",
    "clf.feature_importances_"
   ]
  },
  {
   "cell_type": "code",
   "execution_count": 22,
   "metadata": {},
   "outputs": [
    {
     "name": "stdout",
     "output_type": "stream",
     "text": [
      "valor investido predito: % d \n",
      " [1 1 1]\n"
     ]
    }
   ],
   "source": [
    "pred = clf.predict(X1_test)\n",
    "print(\"valor investido predito: % d \\n\", pred)"
   ]
  },
  {
   "cell_type": "code",
   "execution_count": 23,
   "metadata": {},
   "outputs": [
    {
     "name": "stdout",
     "output_type": "stream",
     "text": [
      "              precision    recall  f1-score   support\n",
      "\n",
      "           0       0.00      0.00      0.00         1\n",
      "           1       0.67      1.00      0.80         2\n",
      "\n",
      "    accuracy                           0.67         3\n",
      "   macro avg       0.33      0.50      0.40         3\n",
      "weighted avg       0.44      0.67      0.53         3\n",
      "\n"
     ]
    },
    {
     "name": "stderr",
     "output_type": "stream",
     "text": [
      "C:\\ProgramData\\Anaconda3\\lib\\site-packages\\sklearn\\metrics\\_classification.py:1221: UndefinedMetricWarning: Precision and F-score are ill-defined and being set to 0.0 in labels with no predicted samples. Use `zero_division` parameter to control this behavior.\n",
      "  _warn_prf(average, modifier, msg_start, len(result))\n"
     ]
    }
   ],
   "source": [
    "print(metrics.classification_report(y1_test,pred))"
   ]
  },
  {
   "cell_type": "code",
   "execution_count": 24,
   "metadata": {},
   "outputs": [
    {
     "data": {
      "text/plain": [
       "GaussianNB()"
      ]
     },
     "execution_count": 24,
     "metadata": {},
     "output_type": "execute_result"
    }
   ],
   "source": [
    "from sklearn.naive_bayes import GaussianNB\n",
    "nb = GaussianNB()\n",
    "nb.fit(X1_train,y1_train.ravel())"
   ]
  },
  {
   "cell_type": "code",
   "execution_count": 25,
   "metadata": {},
   "outputs": [
    {
     "name": "stdout",
     "output_type": "stream",
     "text": [
      "valor investido predito: %d\n",
      " [0 1 1]\n"
     ]
    }
   ],
   "source": [
    "nb_pred = nb.predict(X1_test)\n",
    "print(\"valor investido predito: %d\\n\", nb_pred)"
   ]
  },
  {
   "cell_type": "code",
   "execution_count": 26,
   "metadata": {},
   "outputs": [
    {
     "name": "stdout",
     "output_type": "stream",
     "text": [
      "              precision    recall  f1-score   support\n",
      "\n",
      "           0       0.00      0.00      0.00         1\n",
      "           1       0.50      0.50      0.50         2\n",
      "\n",
      "    accuracy                           0.33         3\n",
      "   macro avg       0.25      0.25      0.25         3\n",
      "weighted avg       0.33      0.33      0.33         3\n",
      "\n"
     ]
    }
   ],
   "source": [
    "print(metrics.classification_report(y1_test,nb_pred))"
   ]
  },
  {
   "cell_type": "code",
   "execution_count": 27,
   "metadata": {},
   "outputs": [],
   "source": [
    "from sklearn.ensemble import RandomForestClassifier"
   ]
  },
  {
   "cell_type": "code",
   "execution_count": 28,
   "metadata": {},
   "outputs": [
    {
     "data": {
      "text/plain": [
       "RandomForestClassifier(random_state=42)"
      ]
     },
     "execution_count": 28,
     "metadata": {},
     "output_type": "execute_result"
    }
   ],
   "source": [
    "rf = RandomForestClassifier(random_state = 42)\n",
    "rf.fit(X1_train,y1_train.ravel())"
   ]
  },
  {
   "cell_type": "code",
   "execution_count": 29,
   "metadata": {},
   "outputs": [
    {
     "name": "stdout",
     "output_type": "stream",
     "text": [
      "valor investido predito: %d\n",
      " [1 1 1]\n",
      "              precision    recall  f1-score   support\n",
      "\n",
      "           0       0.00      0.00      0.00         1\n",
      "           1       0.67      1.00      0.80         2\n",
      "\n",
      "    accuracy                           0.67         3\n",
      "   macro avg       0.33      0.50      0.40         3\n",
      "weighted avg       0.44      0.67      0.53         3\n",
      "\n"
     ]
    },
    {
     "name": "stderr",
     "output_type": "stream",
     "text": [
      "C:\\ProgramData\\Anaconda3\\lib\\site-packages\\sklearn\\metrics\\_classification.py:1221: UndefinedMetricWarning: Precision and F-score are ill-defined and being set to 0.0 in labels with no predicted samples. Use `zero_division` parameter to control this behavior.\n",
      "  _warn_prf(average, modifier, msg_start, len(result))\n"
     ]
    }
   ],
   "source": [
    "rf_pred = rf.predict(X1_test)\n",
    "print(\"valor investido predito: %d\\n\", rf_pred)\n",
    "\n",
    "print(metrics.classification_report(y1_test,rf_pred))"
   ]
  },
  {
   "cell_type": "code",
   "execution_count": 30,
   "metadata": {},
   "outputs": [
    {
     "name": "stdout",
     "output_type": "stream",
     "text": [
      "Requirement already up-to-date: scikit-learn in c:\\programdata\\anaconda3\\lib\\site-packages (0.23.2)\n",
      "Requirement already satisfied, skipping upgrade: numpy>=1.13.3 in c:\\programdata\\anaconda3\\lib\\site-packages (from scikit-learn) (1.15.4)\n",
      "Requirement already satisfied, skipping upgrade: threadpoolctl>=2.0.0 in c:\\programdata\\anaconda3\\lib\\site-packages (from scikit-learn) (2.1.0)\n",
      "Requirement already satisfied, skipping upgrade: scipy>=0.19.1 in c:\\programdata\\anaconda3\\lib\\site-packages (from scikit-learn) (1.1.0)\n",
      "Requirement already satisfied, skipping upgrade: joblib>=0.11 in c:\\programdata\\anaconda3\\lib\\site-packages (from scikit-learn) (0.17.0)\n"
     ]
    },
    {
     "ename": "ValueError",
     "evalue": "plot_confusion_matrix only supports classifiers",
     "output_type": "error",
     "traceback": [
      "\u001b[1;31m---------------------------------------------------------------------------\u001b[0m",
      "\u001b[1;31mValueError\u001b[0m                                Traceback (most recent call last)",
      "\u001b[1;32m<ipython-input-30-4647778b5cea>\u001b[0m in \u001b[0;36m<module>\u001b[1;34m\u001b[0m\n\u001b[0;32m      3\u001b[0m \u001b[1;32mfrom\u001b[0m \u001b[0msklearn\u001b[0m\u001b[1;33m.\u001b[0m\u001b[0mmetrics\u001b[0m \u001b[1;32mimport\u001b[0m \u001b[0mplot_confusion_matrix\u001b[0m\u001b[1;33m\u001b[0m\u001b[1;33m\u001b[0m\u001b[0m\n\u001b[0;32m      4\u001b[0m \u001b[1;33m\u001b[0m\u001b[0m\n\u001b[1;32m----> 5\u001b[1;33m \u001b[0mmatrix\u001b[0m\u001b[1;33m=\u001b[0m \u001b[0mplot_confusion_matrix\u001b[0m\u001b[1;33m(\u001b[0m\u001b[0mpred\u001b[0m\u001b[1;33m,\u001b[0m \u001b[0mX_test\u001b[0m\u001b[1;33m,\u001b[0m\u001b[0my_test\u001b[0m\u001b[1;33m)\u001b[0m\u001b[1;33m\u001b[0m\u001b[1;33m\u001b[0m\u001b[0m\n\u001b[0m\u001b[0;32m      6\u001b[0m \u001b[0mmatrix\u001b[0m\u001b[1;33m.\u001b[0m\u001b[0max_\u001b[0m\u001b[1;33m.\u001b[0m\u001b[0mset_title\u001b[0m\u001b[1;33m(\u001b[0m\u001b[1;34m'Confusion Matrix'\u001b[0m\u001b[1;33m,\u001b[0m \u001b[0mcolor\u001b[0m\u001b[1;33m=\u001b[0m\u001b[1;34m'white'\u001b[0m\u001b[1;33m)\u001b[0m\u001b[1;33m\u001b[0m\u001b[1;33m\u001b[0m\u001b[0m\n\u001b[0;32m      7\u001b[0m \u001b[0mplt\u001b[0m\u001b[1;33m.\u001b[0m\u001b[0mxlabel\u001b[0m\u001b[1;33m(\u001b[0m\u001b[1;34m'Predição'\u001b[0m \u001b[1;33m,\u001b[0m \u001b[0mcolor\u001b[0m\u001b[1;33m=\u001b[0m\u001b[1;34m'white'\u001b[0m\u001b[1;33m)\u001b[0m\u001b[1;33m\u001b[0m\u001b[1;33m\u001b[0m\u001b[0m\n",
      "\u001b[1;32mC:\\ProgramData\\Anaconda3\\lib\\site-packages\\sklearn\\utils\\validation.py\u001b[0m in \u001b[0;36minner_f\u001b[1;34m(*args, **kwargs)\u001b[0m\n\u001b[0;32m     70\u001b[0m                           FutureWarning)\n\u001b[0;32m     71\u001b[0m         \u001b[0mkwargs\u001b[0m\u001b[1;33m.\u001b[0m\u001b[0mupdate\u001b[0m\u001b[1;33m(\u001b[0m\u001b[1;33m{\u001b[0m\u001b[0mk\u001b[0m\u001b[1;33m:\u001b[0m \u001b[0marg\u001b[0m \u001b[1;32mfor\u001b[0m \u001b[0mk\u001b[0m\u001b[1;33m,\u001b[0m \u001b[0marg\u001b[0m \u001b[1;32min\u001b[0m \u001b[0mzip\u001b[0m\u001b[1;33m(\u001b[0m\u001b[0msig\u001b[0m\u001b[1;33m.\u001b[0m\u001b[0mparameters\u001b[0m\u001b[1;33m,\u001b[0m \u001b[0margs\u001b[0m\u001b[1;33m)\u001b[0m\u001b[1;33m}\u001b[0m\u001b[1;33m)\u001b[0m\u001b[1;33m\u001b[0m\u001b[1;33m\u001b[0m\u001b[0m\n\u001b[1;32m---> 72\u001b[1;33m         \u001b[1;32mreturn\u001b[0m \u001b[0mf\u001b[0m\u001b[1;33m(\u001b[0m\u001b[1;33m**\u001b[0m\u001b[0mkwargs\u001b[0m\u001b[1;33m)\u001b[0m\u001b[1;33m\u001b[0m\u001b[1;33m\u001b[0m\u001b[0m\n\u001b[0m\u001b[0;32m     73\u001b[0m     \u001b[1;32mreturn\u001b[0m \u001b[0minner_f\u001b[0m\u001b[1;33m\u001b[0m\u001b[1;33m\u001b[0m\u001b[0m\n\u001b[0;32m     74\u001b[0m \u001b[1;33m\u001b[0m\u001b[0m\n",
      "\u001b[1;32mC:\\ProgramData\\Anaconda3\\lib\\site-packages\\sklearn\\metrics\\_plot\\confusion_matrix.py\u001b[0m in \u001b[0;36mplot_confusion_matrix\u001b[1;34m(estimator, X, y_true, labels, sample_weight, normalize, display_labels, include_values, xticks_rotation, values_format, cmap, ax)\u001b[0m\n\u001b[0;32m    215\u001b[0m \u001b[1;33m\u001b[0m\u001b[0m\n\u001b[0;32m    216\u001b[0m     \u001b[1;32mif\u001b[0m \u001b[1;32mnot\u001b[0m \u001b[0mis_classifier\u001b[0m\u001b[1;33m(\u001b[0m\u001b[0mestimator\u001b[0m\u001b[1;33m)\u001b[0m\u001b[1;33m:\u001b[0m\u001b[1;33m\u001b[0m\u001b[1;33m\u001b[0m\u001b[0m\n\u001b[1;32m--> 217\u001b[1;33m         \u001b[1;32mraise\u001b[0m \u001b[0mValueError\u001b[0m\u001b[1;33m(\u001b[0m\u001b[1;34m\"plot_confusion_matrix only supports classifiers\"\u001b[0m\u001b[1;33m)\u001b[0m\u001b[1;33m\u001b[0m\u001b[1;33m\u001b[0m\u001b[0m\n\u001b[0m\u001b[0;32m    218\u001b[0m \u001b[1;33m\u001b[0m\u001b[0m\n\u001b[0;32m    219\u001b[0m     \u001b[0my_pred\u001b[0m \u001b[1;33m=\u001b[0m \u001b[0mestimator\u001b[0m\u001b[1;33m.\u001b[0m\u001b[0mpredict\u001b[0m\u001b[1;33m(\u001b[0m\u001b[0mX\u001b[0m\u001b[1;33m)\u001b[0m\u001b[1;33m\u001b[0m\u001b[1;33m\u001b[0m\u001b[0m\n",
      "\u001b[1;31mValueError\u001b[0m: plot_confusion_matrix only supports classifiers"
     ]
    }
   ],
   "source": [
    "!pip3 install --upgrade scikit-learn\n",
    "from sklearn.metrics import confusion_matrix\n",
    "from sklearn.metrics import plot_confusion_matrix\n",
    "\n",
    "matrix= plot_confusion_matrix(pred, X_test,y_test)\n",
    "matrix.ax_.set_title('Confusion Matrix', color='white')\n",
    "plt.xlabel('Predição' , color='white')\n",
    "plt.ylabel('Real' , color='white')\n",
    "plt.show"
   ]
  },
  {
   "cell_type": "code",
   "execution_count": null,
   "metadata": {},
   "outputs": [],
   "source": []
  }
 ],
 "metadata": {
  "kernelspec": {
   "display_name": "Python 3",
   "language": "python",
   "name": "python3"
  },
  "language_info": {
   "codemirror_mode": {
    "name": "ipython",
    "version": 3
   },
   "file_extension": ".py",
   "mimetype": "text/x-python",
   "name": "python",
   "nbconvert_exporter": "python",
   "pygments_lexer": "ipython3",
   "version": "3.7.1"
  }
 },
 "nbformat": 4,
 "nbformat_minor": 2
}
